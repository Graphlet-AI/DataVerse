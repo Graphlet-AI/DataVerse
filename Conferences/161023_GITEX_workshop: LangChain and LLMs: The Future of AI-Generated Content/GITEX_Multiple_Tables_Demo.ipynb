{
 "cells": [
  {
   "cell_type": "markdown",
   "id": "2eece2c4",
   "metadata": {},
   "source": [
    "# Using Langchain for Multi-Table Queries\n",
    "\n",
    "## Introduction\n",
    "In this notebook, we'll explore how Langchain can be efficiently used to query multiple tables.\n",
    "\n",
    "## Case Study: Sales Analysis\n",
    "\n",
    "### Dataset Description\n",
    "\n",
    "We have a database containing three tables:\n",
    "\n",
    "1. `sales`: Contains information about weekly sales.\n",
    "2. `price`: Provides prices for products.\n",
    "3. `descriptions`: Contains product information.\n",
    "\n",
    "### Objective\n",
    "\n",
    "Our goal is to analyze sales data and extract insights using human queries"
   ]
  },
  {
   "cell_type": "markdown",
   "id": "dad10faa",
   "metadata": {},
   "source": [
    "## Importing Data"
   ]
  },
  {
   "cell_type": "code",
   "execution_count": 1,
   "id": "ef932208",
   "metadata": {},
   "outputs": [],
   "source": [
    "import pandas as pd"
   ]
  },
  {
   "cell_type": "code",
   "execution_count": 2,
   "id": "1bee657e",
   "metadata": {},
   "outputs": [],
   "source": [
    "sales_df = pd.read_csv(\"data/sales.csv\")"
   ]
  },
  {
   "cell_type": "code",
   "execution_count": 3,
   "id": "d1d6e10f",
   "metadata": {},
   "outputs": [
    {
     "data": {
      "text/html": [
       "<div>\n",
       "<style scoped>\n",
       "    .dataframe tbody tr th:only-of-type {\n",
       "        vertical-align: middle;\n",
       "    }\n",
       "\n",
       "    .dataframe tbody tr th {\n",
       "        vertical-align: top;\n",
       "    }\n",
       "\n",
       "    .dataframe thead th {\n",
       "        text-align: right;\n",
       "    }\n",
       "</style>\n",
       "<table border=\"1\" class=\"dataframe\">\n",
       "  <thead>\n",
       "    <tr style=\"text-align: right;\">\n",
       "      <th></th>\n",
       "      <th>item_id</th>\n",
       "      <th>unit</th>\n",
       "      <th>Sep1</th>\n",
       "      <th>Sep8</th>\n",
       "      <th>Sep15</th>\n",
       "      <th>Sep22</th>\n",
       "      <th>Sep29</th>\n",
       "      <th>Oct6</th>\n",
       "      <th>Oct13</th>\n",
       "      <th>Oct20</th>\n",
       "      <th>Oct27</th>\n",
       "      <th>Nov03</th>\n",
       "      <th>Nov10</th>\n",
       "      <th>Nov17</th>\n",
       "      <th>Nov24</th>\n",
       "      <th>Dec01</th>\n",
       "      <th>Dec08</th>\n",
       "      <th>Dec15</th>\n",
       "      <th>Dec22</th>\n",
       "    </tr>\n",
       "  </thead>\n",
       "  <tbody>\n",
       "    <tr>\n",
       "      <th>0</th>\n",
       "      <td>u0000</td>\n",
       "      <td>kg</td>\n",
       "      <td>5.50</td>\n",
       "      <td>2.900</td>\n",
       "      <td>9.65</td>\n",
       "      <td>5.650</td>\n",
       "      <td>9.850</td>\n",
       "      <td>9.850</td>\n",
       "      <td>3.750</td>\n",
       "      <td>4.55</td>\n",
       "      <td>7.700</td>\n",
       "      <td>3.250</td>\n",
       "      <td>12.30</td>\n",
       "      <td>9.450</td>\n",
       "      <td>6.650</td>\n",
       "      <td>5.600</td>\n",
       "      <td>9.850</td>\n",
       "      <td>9.600</td>\n",
       "      <td>5.700</td>\n",
       "    </tr>\n",
       "    <tr>\n",
       "      <th>1</th>\n",
       "      <td>u0001</td>\n",
       "      <td>kg</td>\n",
       "      <td>1.76</td>\n",
       "      <td>7.568</td>\n",
       "      <td>10.56</td>\n",
       "      <td>3.872</td>\n",
       "      <td>8.712</td>\n",
       "      <td>2.288</td>\n",
       "      <td>7.128</td>\n",
       "      <td>8.80</td>\n",
       "      <td>10.472</td>\n",
       "      <td>1.408</td>\n",
       "      <td>11.00</td>\n",
       "      <td>8.008</td>\n",
       "      <td>5.016</td>\n",
       "      <td>4.752</td>\n",
       "      <td>7.568</td>\n",
       "      <td>8.624</td>\n",
       "      <td>8.624</td>\n",
       "    </tr>\n",
       "    <tr>\n",
       "      <th>2</th>\n",
       "      <td>u0002</td>\n",
       "      <td>kg</td>\n",
       "      <td>6.00</td>\n",
       "      <td>5.100</td>\n",
       "      <td>0.80</td>\n",
       "      <td>4.450</td>\n",
       "      <td>1.400</td>\n",
       "      <td>2.750</td>\n",
       "      <td>4.600</td>\n",
       "      <td>3.75</td>\n",
       "      <td>2.900</td>\n",
       "      <td>4.850</td>\n",
       "      <td>2.70</td>\n",
       "      <td>4.050</td>\n",
       "      <td>2.550</td>\n",
       "      <td>2.650</td>\n",
       "      <td>2.250</td>\n",
       "      <td>2.800</td>\n",
       "      <td>3.300</td>\n",
       "    </tr>\n",
       "    <tr>\n",
       "      <th>3</th>\n",
       "      <td>u0003</td>\n",
       "      <td>kg</td>\n",
       "      <td>3.55</td>\n",
       "      <td>9.500</td>\n",
       "      <td>5.45</td>\n",
       "      <td>4.750</td>\n",
       "      <td>7.900</td>\n",
       "      <td>4.400</td>\n",
       "      <td>7.650</td>\n",
       "      <td>6.60</td>\n",
       "      <td>5.450</td>\n",
       "      <td>5.900</td>\n",
       "      <td>2.80</td>\n",
       "      <td>7.900</td>\n",
       "      <td>4.600</td>\n",
       "      <td>5.250</td>\n",
       "      <td>8.250</td>\n",
       "      <td>2.700</td>\n",
       "      <td>8.900</td>\n",
       "    </tr>\n",
       "    <tr>\n",
       "      <th>4</th>\n",
       "      <td>u0004</td>\n",
       "      <td>kg</td>\n",
       "      <td>4.80</td>\n",
       "      <td>5.650</td>\n",
       "      <td>3.80</td>\n",
       "      <td>6.650</td>\n",
       "      <td>2.700</td>\n",
       "      <td>5.450</td>\n",
       "      <td>6.250</td>\n",
       "      <td>0.80</td>\n",
       "      <td>5.800</td>\n",
       "      <td>6.300</td>\n",
       "      <td>3.25</td>\n",
       "      <td>4.900</td>\n",
       "      <td>3.750</td>\n",
       "      <td>8.300</td>\n",
       "      <td>5.600</td>\n",
       "      <td>1.150</td>\n",
       "      <td>6.450</td>\n",
       "    </tr>\n",
       "  </tbody>\n",
       "</table>\n",
       "</div>"
      ],
      "text/plain": [
       "  item_id unit  Sep1   Sep8  Sep15  Sep22  Sep29   Oct6  Oct13  Oct20   Oct27  \\\n",
       "0   u0000   kg  5.50  2.900   9.65  5.650  9.850  9.850  3.750   4.55   7.700   \n",
       "1   u0001   kg  1.76  7.568  10.56  3.872  8.712  2.288  7.128   8.80  10.472   \n",
       "2   u0002   kg  6.00  5.100   0.80  4.450  1.400  2.750  4.600   3.75   2.900   \n",
       "3   u0003   kg  3.55  9.500   5.45  4.750  7.900  4.400  7.650   6.60   5.450   \n",
       "4   u0004   kg  4.80  5.650   3.80  6.650  2.700  5.450  6.250   0.80   5.800   \n",
       "\n",
       "   Nov03  Nov10  Nov17  Nov24  Dec01  Dec08  Dec15  Dec22  \n",
       "0  3.250  12.30  9.450  6.650  5.600  9.850  9.600  5.700  \n",
       "1  1.408  11.00  8.008  5.016  4.752  7.568  8.624  8.624  \n",
       "2  4.850   2.70  4.050  2.550  2.650  2.250  2.800  3.300  \n",
       "3  5.900   2.80  7.900  4.600  5.250  8.250  2.700  8.900  \n",
       "4  6.300   3.25  4.900  3.750  8.300  5.600  1.150  6.450  "
      ]
     },
     "execution_count": 3,
     "metadata": {},
     "output_type": "execute_result"
    }
   ],
   "source": [
    "sales_df.head()"
   ]
  },
  {
   "cell_type": "code",
   "execution_count": 4,
   "id": "46578ec0",
   "metadata": {},
   "outputs": [],
   "source": [
    "sales_df.drop([\"unit\"], axis=1, inplace=True)"
   ]
  },
  {
   "cell_type": "code",
   "execution_count": 5,
   "id": "29410c8e",
   "metadata": {},
   "outputs": [],
   "source": [
    "price_df = pd.read_csv(\"data/price.csv\")"
   ]
  },
  {
   "cell_type": "code",
   "execution_count": 6,
   "id": "3234209c",
   "metadata": {},
   "outputs": [
    {
     "data": {
      "text/html": [
       "<div>\n",
       "<style scoped>\n",
       "    .dataframe tbody tr th:only-of-type {\n",
       "        vertical-align: middle;\n",
       "    }\n",
       "\n",
       "    .dataframe tbody tr th {\n",
       "        vertical-align: top;\n",
       "    }\n",
       "\n",
       "    .dataframe thead th {\n",
       "        text-align: right;\n",
       "    }\n",
       "</style>\n",
       "<table border=\"1\" class=\"dataframe\">\n",
       "  <thead>\n",
       "    <tr style=\"text-align: right;\">\n",
       "      <th></th>\n",
       "      <th>item_id</th>\n",
       "      <th>price</th>\n",
       "    </tr>\n",
       "  </thead>\n",
       "  <tbody>\n",
       "    <tr>\n",
       "      <th>0</th>\n",
       "      <td>u0000</td>\n",
       "      <td>12.0</td>\n",
       "    </tr>\n",
       "    <tr>\n",
       "      <th>1</th>\n",
       "      <td>u0001</td>\n",
       "      <td>10.0</td>\n",
       "    </tr>\n",
       "    <tr>\n",
       "      <th>2</th>\n",
       "      <td>u0002</td>\n",
       "      <td>15.0</td>\n",
       "    </tr>\n",
       "    <tr>\n",
       "      <th>3</th>\n",
       "      <td>u0003</td>\n",
       "      <td>8.0</td>\n",
       "    </tr>\n",
       "    <tr>\n",
       "      <th>4</th>\n",
       "      <td>u0004</td>\n",
       "      <td>15.0</td>\n",
       "    </tr>\n",
       "  </tbody>\n",
       "</table>\n",
       "</div>"
      ],
      "text/plain": [
       "  item_id  price\n",
       "0   u0000   12.0\n",
       "1   u0001   10.0\n",
       "2   u0002   15.0\n",
       "3   u0003    8.0\n",
       "4   u0004   15.0"
      ]
     },
     "execution_count": 6,
     "metadata": {},
     "output_type": "execute_result"
    }
   ],
   "source": [
    "price_df.head()"
   ]
  },
  {
   "cell_type": "code",
   "execution_count": 7,
   "id": "18c1fc51",
   "metadata": {},
   "outputs": [],
   "source": [
    "description_df = pd.read_csv(\"data/description.csv\")"
   ]
  },
  {
   "cell_type": "code",
   "execution_count": 8,
   "id": "5c986007",
   "metadata": {},
   "outputs": [
    {
     "data": {
      "text/html": [
       "<div>\n",
       "<style scoped>\n",
       "    .dataframe tbody tr th:only-of-type {\n",
       "        vertical-align: middle;\n",
       "    }\n",
       "\n",
       "    .dataframe tbody tr th {\n",
       "        vertical-align: top;\n",
       "    }\n",
       "\n",
       "    .dataframe thead th {\n",
       "        text-align: right;\n",
       "    }\n",
       "</style>\n",
       "<table border=\"1\" class=\"dataframe\">\n",
       "  <thead>\n",
       "    <tr style=\"text-align: right;\">\n",
       "      <th></th>\n",
       "      <th>item_id</th>\n",
       "      <th>Name</th>\n",
       "      <th>Category</th>\n",
       "      <th>Description</th>\n",
       "    </tr>\n",
       "  </thead>\n",
       "  <tbody>\n",
       "    <tr>\n",
       "      <th>0</th>\n",
       "      <td>u0000</td>\n",
       "      <td>Apples</td>\n",
       "      <td>Fruits</td>\n",
       "      <td>Sweet and crisp, a healthy snack choice.</td>\n",
       "    </tr>\n",
       "    <tr>\n",
       "      <th>1</th>\n",
       "      <td>u0001</td>\n",
       "      <td>Bananas</td>\n",
       "      <td>Fruits</td>\n",
       "      <td>Convenient and packed with natural energy.</td>\n",
       "    </tr>\n",
       "    <tr>\n",
       "      <th>2</th>\n",
       "      <td>u0002</td>\n",
       "      <td>Oranges</td>\n",
       "      <td>Fruits</td>\n",
       "      <td>Juicy and rich in vitamin C for a citrus burst.</td>\n",
       "    </tr>\n",
       "    <tr>\n",
       "      <th>3</th>\n",
       "      <td>u0003</td>\n",
       "      <td>Carrots</td>\n",
       "      <td>Vegetables</td>\n",
       "      <td>Crunchy and high in beta-carotene for eye health.</td>\n",
       "    </tr>\n",
       "    <tr>\n",
       "      <th>4</th>\n",
       "      <td>u0004</td>\n",
       "      <td>Broccoli</td>\n",
       "      <td>Vegetables</td>\n",
       "      <td>Nutrient-dense and versatile green vegetable.</td>\n",
       "    </tr>\n",
       "  </tbody>\n",
       "</table>\n",
       "</div>"
      ],
      "text/plain": [
       "  item_id      Name    Category  \\\n",
       "0   u0000    Apples      Fruits   \n",
       "1   u0001   Bananas      Fruits   \n",
       "2   u0002   Oranges      Fruits   \n",
       "3   u0003   Carrots  Vegetables   \n",
       "4   u0004  Broccoli  Vegetables   \n",
       "\n",
       "                                         Description  \n",
       "0           Sweet and crisp, a healthy snack choice.  \n",
       "1         Convenient and packed with natural energy.  \n",
       "2    Juicy and rich in vitamin C for a citrus burst.  \n",
       "3  Crunchy and high in beta-carotene for eye health.  \n",
       "4      Nutrient-dense and versatile green vegetable.  "
      ]
     },
     "execution_count": 8,
     "metadata": {},
     "output_type": "execute_result"
    }
   ],
   "source": [
    "description_df.head()"
   ]
  },
  {
   "cell_type": "code",
   "execution_count": 9,
   "id": "2e3fa724",
   "metadata": {},
   "outputs": [
    {
     "data": {
      "text/plain": [
       "((23, 18), (23, 2), (23, 4))"
      ]
     },
     "execution_count": 9,
     "metadata": {},
     "output_type": "execute_result"
    }
   ],
   "source": [
    "sales_df.shape, price_df.shape, description_df.shape"
   ]
  },
  {
   "cell_type": "markdown",
   "id": "d17bdc4f",
   "metadata": {},
   "source": [
    "## Langchain time"
   ]
  },
  {
   "cell_type": "code",
   "execution_count": 10,
   "id": "47517eb8",
   "metadata": {},
   "outputs": [],
   "source": [
    "from langchain.chains import RetrievalQA\n",
    "from langchain.chat_models import ChatOpenAI\n",
    "from langchain.document_loaders import CSVLoader\n",
    "from langchain.vectorstores import DocArrayInMemorySearch\n",
    "from IPython.display import display, Markdown\n",
    "from langchain.indexes import VectorstoreIndexCreator\n",
    "\n",
    "from langchain.llms import OpenAI\n",
    "from langchain.agents import create_pandas_dataframe_agent\n",
    "from langchain.agents.agent_types import AgentType"
   ]
  },
  {
   "cell_type": "code",
   "execution_count": 11,
   "id": "19e66148",
   "metadata": {},
   "outputs": [
    {
     "data": {
      "text/plain": [
       "True"
      ]
     },
     "execution_count": 11,
     "metadata": {},
     "output_type": "execute_result"
    }
   ],
   "source": [
    "from dotenv import load_dotenv\n",
    "load_dotenv()\n",
    "\n",
    "#import os\n",
    "#os.environ[\"OPENAI_API_KEY\"] =\"sk-...\""
   ]
  },
  {
   "cell_type": "code",
   "execution_count": 12,
   "id": "46320696",
   "metadata": {},
   "outputs": [],
   "source": [
    "file = 'data/sales.csv'\n",
    "loader = CSVLoader(file_path=file)"
   ]
  },
  {
   "cell_type": "markdown",
   "id": "35362287",
   "metadata": {},
   "source": [
    "### Index query"
   ]
  },
  {
   "cell_type": "code",
   "execution_count": 13,
   "id": "b0db78a4",
   "metadata": {},
   "outputs": [
    {
     "name": "stderr",
     "output_type": "stream",
     "text": [
      "2023-10-16 11:40:29.148794: I tensorflow/tsl/cuda/cudart_stub.cc:28] Could not find cuda drivers on your machine, GPU will not be used.\n",
      "2023-10-16 11:40:29.255962: I tensorflow/core/platform/cpu_feature_guard.cc:182] This TensorFlow binary is optimized to use available CPU instructions in performance-critical operations.\n",
      "To enable the following instructions: AVX2 FMA, in other operations, rebuild TensorFlow with the appropriate compiler flags.\n",
      "2023-10-16 11:40:30.367208: W tensorflow/compiler/tf2tensorrt/utils/py_utils.cc:38] TF-TRT Warning: Could not find TensorRT\n"
     ]
    }
   ],
   "source": [
    "index = VectorstoreIndexCreator(\n",
    "    vectorstore_cls=DocArrayInMemorySearch\n",
    ").from_loaders([loader])"
   ]
  },
  {
   "cell_type": "code",
   "execution_count": 14,
   "id": "9c961b64",
   "metadata": {},
   "outputs": [],
   "source": [
    "query =\"\"\"\n",
    "You are given a sales table with dates as columns and products as rows. \n",
    "What is the highest sold product?\n",
    "\"\"\""
   ]
  },
  {
   "cell_type": "code",
   "execution_count": 15,
   "id": "b836998c",
   "metadata": {},
   "outputs": [
    {
     "data": {
      "text/plain": [
       "'\\nIt is not possible to answer this question without more information. The highest sold product depends on the unit of measurement (bottle, kg, etc.) and the quantity sold for each product.'"
      ]
     },
     "execution_count": 15,
     "metadata": {},
     "output_type": "execute_result"
    }
   ],
   "source": [
    "index.query(query)"
   ]
  },
  {
   "cell_type": "code",
   "execution_count": 16,
   "id": "0e296e6c",
   "metadata": {},
   "outputs": [],
   "source": [
    "query =\"\"\"\n",
    "You are given a sales table with dates as columns and products as rows. \n",
    "What is the highest sold product?\n",
    "\"\"\""
   ]
  },
  {
   "cell_type": "markdown",
   "id": "63594fc5",
   "metadata": {},
   "source": [
    "### LLM with single dataframe"
   ]
  },
  {
   "cell_type": "code",
   "execution_count": 17,
   "id": "6fecd94e",
   "metadata": {},
   "outputs": [],
   "source": [
    "llm = OpenAI(temperature=0, model=\"text-davinci-003\")"
   ]
  },
  {
   "cell_type": "code",
   "execution_count": 18,
   "id": "857c7f57",
   "metadata": {},
   "outputs": [],
   "source": [
    "sales_df_agent = create_pandas_dataframe_agent(\n",
    "    llm, sales_df.copy(), verbose=True, agent_type=AgentType.ZERO_SHOT_REACT_DESCRIPTION\n",
    ")"
   ]
  },
  {
   "cell_type": "code",
   "execution_count": 19,
   "id": "c21b971a",
   "metadata": {},
   "outputs": [
    {
     "name": "stdout",
     "output_type": "stream",
     "text": [
      "\n",
      "\n",
      "\u001b[1m> Entering new AgentExecutor chain...\u001b[0m\n",
      "\u001b[32;1m\u001b[1;3m\n",
      "Thought: I need to find the highest value in the table\n",
      "Action: python_repl_ast\n",
      "Action Input: df.max()\u001b[0m\n",
      "Observation: \u001b[36;1m\u001b[1;3mitem_id    u0022\n",
      "Sep1        16.0\n",
      "Sep8        14.0\n",
      "Sep15       19.0\n",
      "Sep22       27.0\n",
      "Sep29       22.0\n",
      "Oct6        29.0\n",
      "Oct13       26.0\n",
      "Oct20       20.0\n",
      "Oct27      37.75\n",
      "Nov03       25.0\n",
      "Nov10       21.0\n",
      "Nov17       21.0\n",
      "Nov24       24.0\n",
      "Dec01       30.0\n",
      "Dec08       18.0\n",
      "Dec15        9.6\n",
      "Dec22       17.0\n",
      "dtype: object\u001b[0m\n",
      "Thought:\u001b[32;1m\u001b[1;3m I need to find the item_id associated with the highest value\n",
      "Action: python_repl_ast\n",
      "Action Input: df.loc[df['Sep1'].idxmax()]\u001b[0m\n",
      "Observation: \u001b[36;1m\u001b[1;3mitem_id    u0012\n",
      "Sep1        16.0\n",
      "Sep8        14.0\n",
      "Sep15       19.0\n",
      "Sep22       27.0\n",
      "Sep29       22.0\n",
      "Oct6        29.0\n",
      "Oct13       26.0\n",
      "Oct20       20.0\n",
      "Oct27       30.0\n",
      "Nov03       25.0\n",
      "Nov10       21.0\n",
      "Nov17       21.0\n",
      "Nov24       24.0\n",
      "Dec01       30.0\n",
      "Dec08       18.0\n",
      "Dec15        6.0\n",
      "Dec22       17.0\n",
      "Name: 12, dtype: object\u001b[0m\n",
      "Thought:\u001b[32;1m\u001b[1;3m I now know the final answer\n",
      "Final Answer: The highest sold product is u0012.\u001b[0m\n",
      "\n",
      "\u001b[1m> Finished chain.\u001b[0m\n"
     ]
    },
    {
     "data": {
      "text/plain": [
       "'The highest sold product is u0012.'"
      ]
     },
     "execution_count": 19,
     "metadata": {},
     "output_type": "execute_result"
    }
   ],
   "source": [
    "sales_df_agent.run(query)"
   ]
  },
  {
   "cell_type": "markdown",
   "id": "5cb0f664",
   "metadata": {},
   "source": [
    "### LLM with multiple dataframes"
   ]
  },
  {
   "cell_type": "code",
   "execution_count": 20,
   "id": "c66c0e9d",
   "metadata": {},
   "outputs": [],
   "source": [
    "query =\"\"\"\n",
    "You are given a sales table with dates as columns and products as rows and a price table.\n",
    "What product brings me the most revenue?\n",
    "\"\"\""
   ]
  },
  {
   "cell_type": "code",
   "execution_count": 21,
   "id": "3b4982b9",
   "metadata": {},
   "outputs": [],
   "source": [
    "sales_df_agent = create_pandas_dataframe_agent(\n",
    "    llm, [sales_df.copy(), price_df.copy()], verbose=True, agent_type=AgentType.ZERO_SHOT_REACT_DESCRIPTION\n",
    ")"
   ]
  },
  {
   "cell_type": "code",
   "execution_count": 22,
   "id": "f0022b4a",
   "metadata": {},
   "outputs": [
    {
     "name": "stdout",
     "output_type": "stream",
     "text": [
      "\n",
      "\n",
      "\u001b[1m> Entering new AgentExecutor chain...\u001b[0m\n",
      "\u001b[32;1m\u001b[1;3m\n",
      "Thought: I need to calculate the total revenue for each product\n",
      "Action: python_repl_ast\n",
      "Action Input: df1['total_revenue'] = df1.iloc[:,1:].mul(df2.price, axis=0).sum(axis=1)\u001b[0m\n",
      "Observation: \u001b[36;1m\u001b[1;3m\u001b[0m\n",
      "Thought:\u001b[32;1m\u001b[1;3m I now know the total revenue for each product\n",
      "Action: python_repl_ast\n",
      "Action Input: df1['total_revenue'].idxmax()\u001b[0m\n",
      "Observation: \u001b[36;1m\u001b[1;3m16\u001b[0m\n",
      "Thought:\u001b[32;1m\u001b[1;3m I now know the final answer\n",
      "Final Answer: The product with the highest revenue is item_id u0016.\u001b[0m\n",
      "\n",
      "\u001b[1m> Finished chain.\u001b[0m\n"
     ]
    },
    {
     "data": {
      "text/plain": [
       "'The product with the highest revenue is item_id u0016.'"
      ]
     },
     "execution_count": 22,
     "metadata": {},
     "output_type": "execute_result"
    }
   ],
   "source": [
    "sales_df_agent.run(query)"
   ]
  },
  {
   "cell_type": "code",
   "execution_count": 23,
   "id": "d740bc81",
   "metadata": {},
   "outputs": [],
   "source": [
    "merged_df = pd.merge(sales_df, price_df, on='item_id')\n",
    "date_columns = sales_df.columns[1:]\n",
    "for column in date_columns:\n",
    "    merged_df[column] = merged_df[column] * merged_df['price']\n",
    "\n",
    "merged_df.drop(columns=['price'], inplace=True)"
   ]
  },
  {
   "cell_type": "code",
   "execution_count": 24,
   "id": "e9a502e9",
   "metadata": {},
   "outputs": [
    {
     "data": {
      "text/html": [
       "<div>\n",
       "<style scoped>\n",
       "    .dataframe tbody tr th:only-of-type {\n",
       "        vertical-align: middle;\n",
       "    }\n",
       "\n",
       "    .dataframe tbody tr th {\n",
       "        vertical-align: top;\n",
       "    }\n",
       "\n",
       "    .dataframe thead th {\n",
       "        text-align: right;\n",
       "    }\n",
       "</style>\n",
       "<table border=\"1\" class=\"dataframe\">\n",
       "  <thead>\n",
       "    <tr style=\"text-align: right;\">\n",
       "      <th></th>\n",
       "      <th>item_id</th>\n",
       "      <th>Sep1</th>\n",
       "      <th>Sep8</th>\n",
       "      <th>Sep15</th>\n",
       "      <th>Sep22</th>\n",
       "      <th>Sep29</th>\n",
       "      <th>Oct6</th>\n",
       "      <th>Oct13</th>\n",
       "      <th>Oct20</th>\n",
       "      <th>Oct27</th>\n",
       "      <th>Nov03</th>\n",
       "      <th>Nov10</th>\n",
       "      <th>Nov17</th>\n",
       "      <th>Nov24</th>\n",
       "      <th>Dec01</th>\n",
       "      <th>Dec08</th>\n",
       "      <th>Dec15</th>\n",
       "      <th>Dec22</th>\n",
       "    </tr>\n",
       "  </thead>\n",
       "  <tbody>\n",
       "    <tr>\n",
       "      <th>0</th>\n",
       "      <td>u0000</td>\n",
       "      <td>66.0</td>\n",
       "      <td>34.80</td>\n",
       "      <td>115.8</td>\n",
       "      <td>67.80</td>\n",
       "      <td>118.20</td>\n",
       "      <td>118.20</td>\n",
       "      <td>45.00</td>\n",
       "      <td>54.60</td>\n",
       "      <td>92.40</td>\n",
       "      <td>39.00</td>\n",
       "      <td>147.60</td>\n",
       "      <td>113.40</td>\n",
       "      <td>79.80</td>\n",
       "      <td>67.20</td>\n",
       "      <td>118.20</td>\n",
       "      <td>115.20</td>\n",
       "      <td>68.40</td>\n",
       "    </tr>\n",
       "    <tr>\n",
       "      <th>1</th>\n",
       "      <td>u0001</td>\n",
       "      <td>17.6</td>\n",
       "      <td>75.68</td>\n",
       "      <td>105.6</td>\n",
       "      <td>38.72</td>\n",
       "      <td>87.12</td>\n",
       "      <td>22.88</td>\n",
       "      <td>71.28</td>\n",
       "      <td>88.00</td>\n",
       "      <td>104.72</td>\n",
       "      <td>14.08</td>\n",
       "      <td>110.00</td>\n",
       "      <td>80.08</td>\n",
       "      <td>50.16</td>\n",
       "      <td>47.52</td>\n",
       "      <td>75.68</td>\n",
       "      <td>86.24</td>\n",
       "      <td>86.24</td>\n",
       "    </tr>\n",
       "    <tr>\n",
       "      <th>2</th>\n",
       "      <td>u0002</td>\n",
       "      <td>90.0</td>\n",
       "      <td>76.50</td>\n",
       "      <td>12.0</td>\n",
       "      <td>66.75</td>\n",
       "      <td>21.00</td>\n",
       "      <td>41.25</td>\n",
       "      <td>69.00</td>\n",
       "      <td>56.25</td>\n",
       "      <td>43.50</td>\n",
       "      <td>72.75</td>\n",
       "      <td>40.50</td>\n",
       "      <td>60.75</td>\n",
       "      <td>38.25</td>\n",
       "      <td>39.75</td>\n",
       "      <td>33.75</td>\n",
       "      <td>42.00</td>\n",
       "      <td>49.50</td>\n",
       "    </tr>\n",
       "    <tr>\n",
       "      <th>3</th>\n",
       "      <td>u0003</td>\n",
       "      <td>28.4</td>\n",
       "      <td>76.00</td>\n",
       "      <td>43.6</td>\n",
       "      <td>38.00</td>\n",
       "      <td>63.20</td>\n",
       "      <td>35.20</td>\n",
       "      <td>61.20</td>\n",
       "      <td>52.80</td>\n",
       "      <td>43.60</td>\n",
       "      <td>47.20</td>\n",
       "      <td>22.40</td>\n",
       "      <td>63.20</td>\n",
       "      <td>36.80</td>\n",
       "      <td>42.00</td>\n",
       "      <td>66.00</td>\n",
       "      <td>21.60</td>\n",
       "      <td>71.20</td>\n",
       "    </tr>\n",
       "    <tr>\n",
       "      <th>4</th>\n",
       "      <td>u0004</td>\n",
       "      <td>72.0</td>\n",
       "      <td>84.75</td>\n",
       "      <td>57.0</td>\n",
       "      <td>99.75</td>\n",
       "      <td>40.50</td>\n",
       "      <td>81.75</td>\n",
       "      <td>93.75</td>\n",
       "      <td>12.00</td>\n",
       "      <td>87.00</td>\n",
       "      <td>94.50</td>\n",
       "      <td>48.75</td>\n",
       "      <td>73.50</td>\n",
       "      <td>56.25</td>\n",
       "      <td>124.50</td>\n",
       "      <td>84.00</td>\n",
       "      <td>17.25</td>\n",
       "      <td>96.75</td>\n",
       "    </tr>\n",
       "  </tbody>\n",
       "</table>\n",
       "</div>"
      ],
      "text/plain": [
       "  item_id  Sep1   Sep8  Sep15  Sep22   Sep29    Oct6  Oct13  Oct20   Oct27  \\\n",
       "0   u0000  66.0  34.80  115.8  67.80  118.20  118.20  45.00  54.60   92.40   \n",
       "1   u0001  17.6  75.68  105.6  38.72   87.12   22.88  71.28  88.00  104.72   \n",
       "2   u0002  90.0  76.50   12.0  66.75   21.00   41.25  69.00  56.25   43.50   \n",
       "3   u0003  28.4  76.00   43.6  38.00   63.20   35.20  61.20  52.80   43.60   \n",
       "4   u0004  72.0  84.75   57.0  99.75   40.50   81.75  93.75  12.00   87.00   \n",
       "\n",
       "   Nov03   Nov10   Nov17  Nov24   Dec01   Dec08   Dec15  Dec22  \n",
       "0  39.00  147.60  113.40  79.80   67.20  118.20  115.20  68.40  \n",
       "1  14.08  110.00   80.08  50.16   47.52   75.68   86.24  86.24  \n",
       "2  72.75   40.50   60.75  38.25   39.75   33.75   42.00  49.50  \n",
       "3  47.20   22.40   63.20  36.80   42.00   66.00   21.60  71.20  \n",
       "4  94.50   48.75   73.50  56.25  124.50   84.00   17.25  96.75  "
      ]
     },
     "execution_count": 24,
     "metadata": {},
     "output_type": "execute_result"
    }
   ],
   "source": [
    "merged_df.head()"
   ]
  },
  {
   "cell_type": "code",
   "execution_count": 25,
   "id": "ca381fd4",
   "metadata": {},
   "outputs": [
    {
     "name": "stderr",
     "output_type": "stream",
     "text": [
      "/tmp/ipykernel_140202/821040899.py:1: FutureWarning: Dropping of nuisance columns in DataFrame reductions (with 'numeric_only=None') is deprecated; in a future version this will raise TypeError.  Select only valid columns before calling the reduction.\n",
      "  merged_df['item_id'][merged_df.sum(axis=1).idxmax()]\n"
     ]
    },
    {
     "data": {
      "text/plain": [
       "'u0016'"
      ]
     },
     "execution_count": 25,
     "metadata": {},
     "output_type": "execute_result"
    }
   ],
   "source": [
    "merged_df['item_id'][merged_df.sum(axis=1).idxmax()]"
   ]
  },
  {
   "cell_type": "markdown",
   "id": "923a19a6",
   "metadata": {},
   "source": [
    "### Not Spooky Time Yet"
   ]
  },
  {
   "cell_type": "code",
   "execution_count": 26,
   "id": "ba69c4d0",
   "metadata": {},
   "outputs": [],
   "source": [
    "item_ids = [\"u0006\", \"u0019\", \"u0020\"]"
   ]
  },
  {
   "cell_type": "code",
   "execution_count": 27,
   "id": "1dd5ac2b",
   "metadata": {},
   "outputs": [
    {
     "data": {
      "text/plain": [
       "<Axes: >"
      ]
     },
     "execution_count": 27,
     "metadata": {},
     "output_type": "execute_result"
    },
    {
     "data": {
      "image/png": "[encoded data removed]",
      "text/plain": [
       "<Figure size 432x288 with 1 Axes>"
      ]
     },
     "metadata": {
      "needs_background": "light"
     },
     "output_type": "display_data"
    }
   ],
   "source": [
    "sales_df.set_index(\"item_id\").loc[item_ids].T.plot()"
   ]
  },
  {
   "cell_type": "code",
   "execution_count": 28,
   "id": "2caf4ca2",
   "metadata": {},
   "outputs": [
    {
     "data": {
      "text/html": [
       "<div>\n",
       "<style scoped>\n",
       "    .dataframe tbody tr th:only-of-type {\n",
       "        vertical-align: middle;\n",
       "    }\n",
       "\n",
       "    .dataframe tbody tr th {\n",
       "        vertical-align: top;\n",
       "    }\n",
       "\n",
       "    .dataframe thead th {\n",
       "        text-align: right;\n",
       "    }\n",
       "</style>\n",
       "<table border=\"1\" class=\"dataframe\">\n",
       "  <thead>\n",
       "    <tr style=\"text-align: right;\">\n",
       "      <th></th>\n",
       "      <th>Name</th>\n",
       "      <th>Category</th>\n",
       "      <th>Description</th>\n",
       "    </tr>\n",
       "    <tr>\n",
       "      <th>item_id</th>\n",
       "      <th></th>\n",
       "      <th></th>\n",
       "      <th></th>\n",
       "    </tr>\n",
       "  </thead>\n",
       "  <tbody>\n",
       "    <tr>\n",
       "      <th>u0006</th>\n",
       "      <td>Pumpkin</td>\n",
       "      <td>Vegetables</td>\n",
       "      <td>Versatile squash, great for soups and pies.</td>\n",
       "    </tr>\n",
       "    <tr>\n",
       "      <th>u0019</th>\n",
       "      <td>Chocolate Bars</td>\n",
       "      <td>Snacks</td>\n",
       "      <td>Decadent treat, enjoy in moderation.</td>\n",
       "    </tr>\n",
       "    <tr>\n",
       "      <th>u0020</th>\n",
       "      <td>Gummy Bears</td>\n",
       "      <td>Snacks</td>\n",
       "      <td>Chewy, fruity sweets for occasional indulgence.</td>\n",
       "    </tr>\n",
       "  </tbody>\n",
       "</table>\n",
       "</div>"
      ],
      "text/plain": [
       "                   Name    Category  \\\n",
       "item_id                               \n",
       "u0006           Pumpkin  Vegetables   \n",
       "u0019    Chocolate Bars      Snacks   \n",
       "u0020       Gummy Bears      Snacks   \n",
       "\n",
       "                                             Description  \n",
       "item_id                                                   \n",
       "u0006        Versatile squash, great for soups and pies.  \n",
       "u0019               Decadent treat, enjoy in moderation.  \n",
       "u0020    Chewy, fruity sweets for occasional indulgence.  "
      ]
     },
     "execution_count": 28,
     "metadata": {},
     "output_type": "execute_result"
    }
   ],
   "source": [
    "description_df.set_index(\"item_id\").loc[item_ids]"
   ]
  },
  {
   "cell_type": "code",
   "execution_count": 29,
   "id": "8fece816",
   "metadata": {},
   "outputs": [],
   "source": [
    "query =\"\"\"\n",
    "I noticed there is a peak in sales for u0006, u0019 and u00210 \n",
    "Can you explain why?\"\"\""
   ]
  },
  {
   "cell_type": "code",
   "execution_count": 30,
   "id": "35d326a3",
   "metadata": {},
   "outputs": [],
   "source": [
    "sales_df_agent = create_pandas_dataframe_agent(\n",
    "    llm, [sales_df.copy(), price_df.copy(), description_df.copy()], \n",
    "    verbose=True, agent_type=AgentType.ZERO_SHOT_REACT_DESCRIPTION\n",
    ")"
   ]
  },
  {
   "cell_type": "code",
   "execution_count": 31,
   "id": "aefa75fc",
   "metadata": {},
   "outputs": [
    {
     "name": "stdout",
     "output_type": "stream",
     "text": [
      "\n",
      "\n",
      "\u001b[1m> Entering new AgentExecutor chain...\u001b[0m\n",
      "\u001b[32;1m\u001b[1;3m\n",
      "Thought: I need to look at the dataframes to see what is different about these items\n",
      "Action: python_repl_ast\n",
      "Action Input: df1[df1['item_id'].isin(['u0006', 'u0019', 'u00210'])]\u001b[0m\n",
      "Observation: \u001b[36;1m\u001b[1;3m   item_id  Sep1  Sep8  Sep15  Sep22  Sep29  Oct6  Oct13  Oct20  Oct27  Nov03  \\\n",
      "6    u0006   3.3   0.0    3.5   0.95   1.05   0.0    4.8   8.45  37.75    1.4   \n",
      "19   u0019   0.0   1.0    3.0   0.00   1.00   1.0    1.0  11.00  23.00    1.0   \n",
      "\n",
      "    Nov10  Nov17  Nov24  Dec01  Dec08  Dec15  Dec22  \n",
      "6     0.0    3.5    0.0    0.0   1.65    2.5    0.0  \n",
      "19    3.0    1.0    3.0    1.0   3.00    2.0    1.0  \u001b[0m\n",
      "Thought:\u001b[32;1m\u001b[1;3m I can see that the sales for these items are higher in the later months\n",
      "Action: python_repl_ast\n",
      "Action Input: df2[df2['item_id'].isin(['u0006', 'u0019', 'u00210'])]\u001b[0m\n",
      "Observation: \u001b[36;1m\u001b[1;3m   item_id  price\n",
      "6    u0006    8.0\n",
      "19   u0019    8.0\u001b[0m\n",
      "Thought:\u001b[32;1m\u001b[1;3m The prices for these items are the same\n",
      "Action: python_repl_ast\n",
      "Action Input: df3[df3['item_id'].isin(['u0006', 'u0019', 'u00210'])]\u001b[0m\n",
      "Observation: \u001b[36;1m\u001b[1;3m   item_id            Name    Category  \\\n",
      "6    u0006         Pumpkin  Vegetables   \n",
      "19   u0019  Chocolate Bars      Snacks   \n",
      "\n",
      "                                    Description  \n",
      "6   Versatile squash, great for soups and pies.  \n",
      "19         Decadent treat, enjoy in moderation.  \u001b[0m\n",
      "Thought:\u001b[32;1m\u001b[1;3m These items are all different categories\n",
      "Final Answer: The peak in sales for u0006, u0019 and u00210 is likely due to the fact that they are all different categories, which may have attracted more customers.\u001b[0m\n",
      "\n",
      "\u001b[1m> Finished chain.\u001b[0m\n"
     ]
    },
    {
     "data": {
      "text/plain": [
       "'The peak in sales for u0006, u0019 and u00210 is likely due to the fact that they are all different categories, which may have attracted more customers.'"
      ]
     },
     "execution_count": 31,
     "metadata": {},
     "output_type": "execute_result"
    }
   ],
   "source": [
    "sales_df_agent.run(query)"
   ]
  }
 ],
 "metadata": {
  "kernelspec": {
   "display_name": "Python 3 (ipykernel)",
   "language": "python",
   "name": "python3"
  },
  "language_info": {
   "codemirror_mode": {
    "name": "ipython",
    "version": 3
   },
   "file_extension": ".py",
   "mimetype": "text/x-python",
   "name": "python",
   "nbconvert_exporter": "python",
   "pygments_lexer": "ipython3",
   "version": "3.10.12"
  }
 },
 "nbformat": 4,
 "nbformat_minor": 5
}
