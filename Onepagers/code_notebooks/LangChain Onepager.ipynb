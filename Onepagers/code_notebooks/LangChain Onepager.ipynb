{
 "cells": [
  {
   "cell_type": "markdown",
   "id": "43b341bf",
   "metadata": {},
   "source": [
    "<a target=\"_blank\" href=\"https://colab.research.google.com/drive/1Sv_MpIcpt1OD2M8KBl-yX7fNERnjQ2Qs?usp=sharing\">\n",
    "  <img src=\"https://colab.research.google.com/assets/colab-badge.svg\" alt=\"Open In Colab\"/>\n",
    "</a>"
   ]
  },
  {
   "cell_type": "code",
   "execution_count": 1,
   "id": "f1918eaf",
   "metadata": {},
   "outputs": [
    {
     "name": "stdout",
     "output_type": "stream",
     "text": [
      "\r\n",
      "\u001b[1m[\u001b[0m\u001b[34;49mnotice\u001b[0m\u001b[1;39;49m]\u001b[0m\u001b[39;49m A new release of pip is available: \u001b[0m\u001b[31;49m23.1.2\u001b[0m\u001b[39;49m -> \u001b[0m\u001b[32;49m23.3.1\u001b[0m\r\n",
      "\u001b[1m[\u001b[0m\u001b[34;49mnotice\u001b[0m\u001b[1;39;49m]\u001b[0m\u001b[39;49m To update, run: \u001b[0m\u001b[32;49mpython3 -m pip install --upgrade pip\u001b[0m\r\n"
     ]
    }
   ],
   "source": [
    "!pip3 install -q jq==1.6.0 langchain==0.0.320 openai==0.27.8"
   ]
  },
  {
   "cell_type": "code",
   "execution_count": 2,
   "id": "9ed714e8",
   "metadata": {},
   "outputs": [],
   "source": [
    "from dotenv import load_dotenv\n",
    "import os"
   ]
  },
  {
   "cell_type": "code",
   "execution_count": 3,
   "id": "24473632",
   "metadata": {},
   "outputs": [
    {
     "data": {
      "text/plain": [
       "True"
      ]
     },
     "execution_count": 3,
     "metadata": {},
     "output_type": "execute_result"
    }
   ],
   "source": [
    "load_dotenv()"
   ]
  },
  {
   "cell_type": "markdown",
   "id": "50194e72",
   "metadata": {},
   "source": [
    "## Models"
   ]
  },
  {
   "cell_type": "markdown",
   "id": "ec3ef5a1",
   "metadata": {},
   "source": [
    "### Calling OpenAI large language model"
   ]
  },
  {
   "cell_type": "code",
   "execution_count": 4,
   "id": "4e11f29a",
   "metadata": {},
   "outputs": [],
   "source": [
    "from langchain.llms import OpenAI\n",
    "\n",
    "llm = OpenAI(model_name=\"text-davinci-003\", temperature=0.01)"
   ]
  },
  {
   "cell_type": "code",
   "execution_count": 5,
   "id": "a7dd47d7",
   "metadata": {},
   "outputs": [
    {
     "name": "stdout",
     "output_type": "stream",
     "text": [
      "\n",
      "\n",
      "1. A subscription to a data science magazine or journal\n",
      "2. A set of data science books\n",
      "3. A data science-themed mug or t-shirt\n"
     ]
    }
   ],
   "source": [
    "print(llm(\"Suggest 3 bday gifts for a data scientist\"))"
   ]
  },
  {
   "cell_type": "markdown",
   "id": "3987a600",
   "metadata": {},
   "source": [
    "### Conversation schemas: History and Instructions"
   ]
  },
  {
   "cell_type": "code",
   "execution_count": 6,
   "id": "4efe3b62",
   "metadata": {},
   "outputs": [],
   "source": [
    "from langchain.chat_models import ChatOpenAI\n",
    "from langchain.schema import HumanMessage, AIMessage, SystemMessage\n",
    "\n",
    "chat = ChatOpenAI(model_name=\"gpt-3.5-turbo\", temperature=0.01)\n",
    "conversation_history = [\n",
    "    HumanMessage(content=\"Suggest 3 bday gifts for a data scientist\"),\n",
    "    AIMessage(content=\"What is your price range?\"),\n",
    "    HumanMessage(content=\"Under 100$\"),\n",
    "]"
   ]
  },
  {
   "cell_type": "code",
   "execution_count": 7,
   "id": "faee3f0c",
   "metadata": {},
   "outputs": [
    {
     "name": "stdout",
     "output_type": "stream",
     "text": [
      "1. A data science book: Consider gifting a popular and highly recommended book on data science, such as \"Python for Data Analysis\" by Wes McKinney or \"The Elements of Statistical Learning\" by Trevor Hastie, Robert Tibshirani, and Jerome Friedman. These books can provide valuable insights and knowledge for a data scientist's professional development.\n",
      "\n",
      "2. Data visualization tool: A data scientist often deals with large datasets and needs to present their findings effectively. Consider gifting a data visualization tool like Tableau Public or Plotly, which can help them create interactive and visually appealing charts and graphs to communicate their data analysis results.\n",
      "\n",
      "3. Subscription to a data science platform: Give them access to a data science platform like Kaggle or DataCamp, which offer a wide range of courses, tutorials, and datasets for data scientists to enhance their skills and stay updated with the latest trends in the field. This gift can provide them with valuable learning resources and opportunities for professional growth.\n"
     ]
    }
   ],
   "source": [
    "print(chat(conversation_history).content)"
   ]
  },
  {
   "cell_type": "code",
   "execution_count": 8,
   "id": "49b85594",
   "metadata": {},
   "outputs": [],
   "source": [
    "system_instruction = SystemMessage(\n",
    "    content=\"\"\"You work as an assistant in an electronics store. \n",
    "                                Your income depends on the items you sold\"\"\"\n",
    ")\n",
    "user_message = HumanMessage(content=\"3 bday gifts for a data scientist\")"
   ]
  },
  {
   "cell_type": "code",
   "execution_count": 9,
   "id": "c2d7fd47",
   "metadata": {},
   "outputs": [
    {
     "name": "stdout",
     "output_type": "stream",
     "text": [
      "1. Laptop: A high-performance laptop is essential for any data scientist. Look for a model with a powerful processor, ample RAM, and a large storage capacity. This will allow them to run complex data analysis tasks and store large datasets.\n",
      "\n",
      "2. External Hard Drive: Data scientists deal with massive amounts of data, and having extra storage space is crucial. An external hard drive with a large capacity will provide them with a convenient and secure way to store and backup their data.\n",
      "\n",
      "3. Data Visualization Tool: Data visualization is an important aspect of data science. Consider gifting them a subscription to a data visualization tool like Tableau or Power BI. These tools will help them create visually appealing and interactive charts, graphs, and dashboards to present their findings effectively.\n"
     ]
    }
   ],
   "source": [
    "print(chat([system_instruction, user_message]).content)"
   ]
  },
  {
   "cell_type": "markdown",
   "id": "de88b7dc",
   "metadata": {},
   "source": [
    "### Bonus: Embeddings"
   ]
  },
  {
   "cell_type": "code",
   "execution_count": 10,
   "id": "c50d52ce",
   "metadata": {},
   "outputs": [],
   "source": [
    "from langchain.embeddings import OpenAIEmbeddings\n",
    "\n",
    "embeddings = OpenAIEmbeddings()\n",
    "text_embedding = embeddings.embed_query(\"Birthday gifts for data scientists\")"
   ]
  },
  {
   "cell_type": "code",
   "execution_count": 11,
   "id": "f3477f9e",
   "metadata": {},
   "outputs": [
    {
     "data": {
      "text/plain": [
       "1536"
      ]
     },
     "execution_count": 11,
     "metadata": {},
     "output_type": "execute_result"
    }
   ],
   "source": [
    "len(text_embedding)"
   ]
  },
  {
   "cell_type": "code",
   "execution_count": 12,
   "id": "7b4f4f38",
   "metadata": {},
   "outputs": [
    {
     "data": {
      "text/plain": [
       "[-0.011180388451185951,\n",
       " -0.019558812682177587,\n",
       " 0.005088862323598211,\n",
       " -0.04810039229926082,\n",
       " 0.00021310898358977776]"
      ]
     },
     "execution_count": 12,
     "metadata": {},
     "output_type": "execute_result"
    }
   ],
   "source": [
    "text_embedding[:5]"
   ]
  },
  {
   "cell_type": "markdown",
   "id": "eede7284",
   "metadata": {},
   "source": [
    "For code regarding running open-source models, quantization and finetuning:\n",
    "https://github.com/IvanReznikov/DataVerse/tree/main/Courses/LangChain/Lecture2.%20Models"
   ]
  },
  {
   "cell_type": "markdown",
   "id": "b2a7d7cc",
   "metadata": {},
   "source": [
    "## Prompts"
   ]
  },
  {
   "cell_type": "code",
   "execution_count": 13,
   "id": "cf895d8c",
   "metadata": {},
   "outputs": [],
   "source": [
    "from langchain.prompts import PromptTemplate\n",
    "\n",
    "# Define the template for SEO description\n",
    "template = \"Act as an SEO expert. Provide a SEO description for {product}\"\n",
    "# Create the prompt template\n",
    "prompt = PromptTemplate(input_variables=[\"product\"], template=template)\n",
    "# Pass in an input to return a formatted prompt\n",
    "formatted_prompt = prompt.format(product=\"Electric Scooter\")"
   ]
  },
  {
   "cell_type": "code",
   "execution_count": 14,
   "id": "75906de9",
   "metadata": {},
   "outputs": [
    {
     "name": "stdout",
     "output_type": "stream",
     "text": [
      "\n",
      "\n",
      "An electric scooter is a great way to get around town quickly and efficiently. It is an eco-friendly, cost-effective, and convenient mode of transportation. With its lightweight design and powerful motor, an electric scooter can help you get to your destination quickly and easily. It is also a great way to reduce your carbon footprint and save money on fuel costs. To ensure that your electric scooter is optimized for search engine results, it is important to use relevant keywords in your content. This includes words such as “electric scooter”, “eco-friendly”, “cost-effective”, “convenient”, “lightweight”, “powerful motor”, “carbon footprint”, and “fuel costs”. Additionally, it is important to include relevant images and videos to help boost your SEO rankings. By optimizing your content for search engine results, you can ensure that your electric scooter is seen by potential customers.\n"
     ]
    }
   ],
   "source": [
    "print(llm(formatted_prompt))"
   ]
  },
  {
   "cell_type": "code",
   "execution_count": 15,
   "id": "237c0065",
   "metadata": {},
   "outputs": [],
   "source": [
    "formatted_prompt = prompt.format(product=\"Perpetuum Mobile\")"
   ]
  },
  {
   "cell_type": "code",
   "execution_count": 16,
   "id": "77201c7d",
   "metadata": {},
   "outputs": [
    {
     "name": "stdout",
     "output_type": "stream",
     "text": [
      "\n",
      "\n",
      "Perpetuum Mobile is a leading provider of innovative, sustainable energy solutions. Our products and services are designed to help businesses and individuals reduce their carbon footprint and save money on energy costs. We specialize in solar, wind, and geothermal energy systems, as well as energy storage solutions. Our team of experienced engineers and technicians are dedicated to providing the highest quality products and services to our customers. We strive to be the most reliable and cost-effective provider of renewable energy solutions in the industry. With our commitment to sustainability and customer satisfaction, Perpetuum Mobile is the perfect choice for your energy needs.\n"
     ]
    }
   ],
   "source": [
    "print(llm(formatted_prompt))"
   ]
  },
  {
   "cell_type": "code",
   "execution_count": 17,
   "id": "4ab3f7b9",
   "metadata": {},
   "outputs": [],
   "source": [
    "from langchain.prompts import FewShotPromptTemplate\n",
    "\n",
    "# Define three examples for the 3-shot learning\n",
    "examples = [\n",
    "    {\"email_text\": \"Win a free iPhone!\", \"category\": \"Spam\"},\n",
    "    {\"email_text\": \"Next Sprint Planning Meeting.\", \"category\": \"Meetings\"},\n",
    "    {\"email_text\": \"Version 2.1 of Y is now live\", \"category\": \"Project Updates\"},\n",
    "]\n",
    "# Create a PromptTemplate for classifying emails\n",
    "prompt_template = PromptTemplate(\n",
    "    input_variables=[\"email_text\", \"category\"],\n",
    "    template=\"Classify the email: {email_text} /n {category}\",\n",
    ")\n",
    "# Create a FewShotPromptTemplate using PromptTemplate and examples\n",
    "few_shot_prompt = FewShotPromptTemplate(\n",
    "    example_prompt=prompt_template,\n",
    "    examples=examples,\n",
    "    suffix=\"Classify the email: {email_text}\",\n",
    "    input_variables=[\"email_text\"],\n",
    ")"
   ]
  },
  {
   "cell_type": "code",
   "execution_count": 18,
   "id": "4bbffae1",
   "metadata": {},
   "outputs": [],
   "source": [
    "formatted_prompt = few_shot_prompt.format(\n",
    "    email_text=\"Hi. I'm rescheduling daily standup tomorrow to 10am.\"\n",
    ")"
   ]
  },
  {
   "cell_type": "code",
   "execution_count": 19,
   "id": "67201e64",
   "metadata": {},
   "outputs": [
    {
     "name": "stdout",
     "output_type": "stream",
     "text": [
      " /n Meetings\n"
     ]
    }
   ],
   "source": [
    "print(llm(formatted_prompt))"
   ]
  },
  {
   "cell_type": "markdown",
   "id": "d322366b",
   "metadata": {},
   "source": [
    "## Indexes"
   ]
  },
  {
   "cell_type": "markdown",
   "id": "b524a55a",
   "metadata": {},
   "source": [
    "### Document loaders"
   ]
  },
  {
   "cell_type": "code",
   "execution_count": 20,
   "id": "7fe0876d",
   "metadata": {},
   "outputs": [],
   "source": [
    "from langchain.document_loaders import (\n",
    "    csv_loader,\n",
    "    DirectoryLoader,\n",
    "    WebBaseLoader,\n",
    "    JSONLoader,\n",
    "    UnstructuredPDFLoader,\n",
    ")\n",
    "\n",
    "#loader = DirectoryLoader(\"../\", glob=\"**/*.md\")\n",
    "#loader = csv_loader.CSVLoader(...)\n",
    "#loader = JSONLoader(..., jq_schema=\"\")\n",
    "#loader = UnstructuredPDFLoader(...)\n",
    "loader = WebBaseLoader(\"https://en.wikipedia.org/wiki/History_of_mathematics\")\n",
    "loaded_documents = loader.load()"
   ]
  },
  {
   "cell_type": "markdown",
   "id": "721ed140",
   "metadata": {},
   "source": [
    "### Retrievers and Vectorstores"
   ]
  },
  {
   "cell_type": "code",
   "execution_count": 21,
   "id": "f55d3fa3",
   "metadata": {},
   "outputs": [],
   "source": [
    "from langchain.text_splitter import RecursiveCharacterTextSplitter\n",
    "from langchain.vectorstores import FAISS, Chroma, Pinecone\n",
    "# Split docs into texts\n",
    "text_splitter = RecursiveCharacterTextSplitter(chunk_size=400, chunk_overlap=50)\n",
    "texts = text_splitter.split_documents(loaded_documents)"
   ]
  },
  {
   "cell_type": "code",
   "execution_count": 22,
   "id": "5a5374c3",
   "metadata": {},
   "outputs": [],
   "source": [
    "# Embed your texts and store them in a vectorstore\n",
    "#db = FAISS.from_texts([\"some_string_abc\", \"some_string_xyz\"], embeddings)\n",
    "db = FAISS.from_documents(texts, embeddings)"
   ]
  },
  {
   "cell_type": "code",
   "execution_count": 23,
   "id": "6f890efd",
   "metadata": {},
   "outputs": [
    {
     "data": {
      "text/plain": [
       "[Document(page_content=\"Building on earlier work by many predecessors, Isaac Newton discovered the laws of physics that explain Kepler's Laws, and brought together the concepts now known as calculus. Independently, Gottfried Wilhelm Leibniz, developed calculus and much of the calculus notation still in use today. He also refined the binary number system, which is the foundation of nearly all digital (electronic,\", metadata={'source': 'https://en.wikipedia.org/wiki/History_of_mathematics', 'title': 'History of mathematics - Wikipedia', 'language': 'en'}),\n",
       " Document(page_content='mathematical developments, interacting with new scientific discoveries, were made at an increasing pace that continues through the present day. This includes the groundbreaking work of both Isaac Newton and Gottfried Wilhelm Leibniz in the development of infinitesimal calculus during the course of the 17th century.', metadata={'source': 'https://en.wikipedia.org/wiki/History_of_mathematics', 'title': 'History of mathematics - Wikipedia', 'language': 'en'}),\n",
       " Document(page_content=\"In the 13th century, Nasir al-Din Tusi (Nasireddin) made advances in spherical trigonometry. He also wrote influential work on Euclid's parallel postulate. In the 15th century, Ghiyath al-Kashi computed the value of π to the 16th decimal place. Kashi also had an algorithm for calculating nth roots, which was a special case of the methods given many centuries later by Ruffini and Horner.\", metadata={'source': 'https://en.wikipedia.org/wiki/History_of_mathematics', 'title': 'History of mathematics - Wikipedia', 'language': 'en'}),\n",
       " Document(page_content='Whitehead, initiated a long running debate on the foundations of mathematics.', metadata={'source': 'https://en.wikipedia.org/wiki/History_of_mathematics', 'title': 'History of mathematics - Wikipedia', 'language': 'en'})]"
      ]
     },
     "execution_count": 23,
     "metadata": {},
     "output_type": "execute_result"
    }
   ],
   "source": [
    "# Perform similarity search\n",
    "db.similarity_search(\"What is Isaac Newton's contribution in math?\")"
   ]
  },
  {
   "cell_type": "code",
   "execution_count": 24,
   "id": "c4e10e73",
   "metadata": {},
   "outputs": [
    {
     "data": {
      "text/plain": [
       "[Document(page_content=\"Building on earlier work by many predecessors, Isaac Newton discovered the laws of physics that explain Kepler's Laws, and brought together the concepts now known as calculus. Independently, Gottfried Wilhelm Leibniz, developed calculus and much of the calculus notation still in use today. He also refined the binary number system, which is the foundation of nearly all digital (electronic,\", metadata={'source': 'https://en.wikipedia.org/wiki/History_of_mathematics', 'title': 'History of mathematics - Wikipedia', 'language': 'en'}),\n",
       " Document(page_content='mathematical developments, interacting with new scientific discoveries, were made at an increasing pace that continues through the present day. This includes the groundbreaking work of both Isaac Newton and Gottfried Wilhelm Leibniz in the development of infinitesimal calculus during the course of the 17th century.', metadata={'source': 'https://en.wikipedia.org/wiki/History_of_mathematics', 'title': 'History of mathematics - Wikipedia', 'language': 'en'}),\n",
       " Document(page_content=\"In the 13th century, Nasir al-Din Tusi (Nasireddin) made advances in spherical trigonometry. He also wrote influential work on Euclid's parallel postulate. In the 15th century, Ghiyath al-Kashi computed the value of π to the 16th decimal place. Kashi also had an algorithm for calculating nth roots, which was a special case of the methods given many centuries later by Ruffini and Horner.\", metadata={'source': 'https://en.wikipedia.org/wiki/History_of_mathematics', 'title': 'History of mathematics - Wikipedia', 'language': 'en'}),\n",
       " Document(page_content='Whitehead, initiated a long running debate on the foundations of mathematics.', metadata={'source': 'https://en.wikipedia.org/wiki/History_of_mathematics', 'title': 'History of mathematics - Wikipedia', 'language': 'en'})]"
      ]
     },
     "execution_count": 24,
     "metadata": {},
     "output_type": "execute_result"
    }
   ],
   "source": [
    "# Initialize retriever and ask for relevant documents back\n",
    "retriever = db.as_retriever()\n",
    "retriever.get_relevant_documents(\"What is Isaac Newton's contribution in math?\")"
   ]
  },
  {
   "cell_type": "markdown",
   "id": "99a8eee3",
   "metadata": {},
   "source": [
    "## Memory"
   ]
  },
  {
   "cell_type": "code",
   "execution_count": 25,
   "id": "c6338d49",
   "metadata": {},
   "outputs": [],
   "source": [
    "from langchain.memory import ConversationBufferMemory\n",
    "\n",
    "memory = ConversationBufferMemory(memory_key=\"chat_history\")\n",
    "# Setup predefined memories\n",
    "memory.chat_memory.add_user_message(\"Hi!\")\n",
    "memory.chat_memory.add_ai_message(\"Welcome! How can I help you?\")"
   ]
  },
  {
   "cell_type": "code",
   "execution_count": 26,
   "id": "2ef80d17",
   "metadata": {},
   "outputs": [
    {
     "data": {
      "text/plain": [
       "{'chat_history': 'Human: Hi!\\nAI: Welcome! How can I help you?'}"
      ]
     },
     "execution_count": 26,
     "metadata": {},
     "output_type": "execute_result"
    }
   ],
   "source": [
    "memory.load_memory_variables({})"
   ]
  },
  {
   "cell_type": "code",
   "execution_count": 27,
   "id": "fad5b1ee",
   "metadata": {},
   "outputs": [],
   "source": [
    "# memory.chat_memory.add_user_message(user_input)\n",
    "# memory.chat_memory.add_ai_message(chat_response.content)"
   ]
  },
  {
   "cell_type": "markdown",
   "id": "d04ae04b",
   "metadata": {},
   "source": [
    "## Chains"
   ]
  },
  {
   "cell_type": "code",
   "execution_count": 28,
   "id": "44d0695e",
   "metadata": {},
   "outputs": [],
   "source": [
    "from langchain.prompts import PromptTemplate\n",
    "from langchain.chat_models import ChatOpenAI\n",
    "from langchain.chains import ConversationChain, summarize, question_answering\n",
    "from langchain.schema import StrOutputParser\n",
    "\n",
    "# Template for summarizing customer feedback\n",
    "feedback_summary_prompt = PromptTemplate.from_template(\n",
    "    \"\"\"You are a customer service manager. Given the customer feedback, \n",
    "        it is your job to summarize the main points.\n",
    "Customer Feedback: {feedback}\n",
    "Summary:\"\"\"\n",
    ")\n",
    "\n",
    "# Template for drafting a business email response\n",
    "email_response_prompt = PromptTemplate.from_template(\n",
    "    \"\"\"You are a customer service representative. Given the summary of customer feedback, \n",
    "        it is your job to write a professional email response.\n",
    "Feedback Summary:\n",
    "{summary}\n",
    "Email Response:\"\"\"\n",
    ")\n",
    "\n",
    "feedback_chain = feedback_summary_prompt | llm | StrOutputParser()\n",
    "summary_chain = (\n",
    "    {\"summary\": feedback_chain}\n",
    "    | email_response_prompt\n",
    "    | llm\n",
    "    | StrOutputParser()\n",
    ")"
   ]
  },
  {
   "cell_type": "code",
   "execution_count": 29,
   "id": "e4c9f4d3",
   "metadata": {},
   "outputs": [
    {
     "data": {
      "text/plain": [
       "'\\n\\nDear [Customer],\\n\\nThank you for taking the time to provide us with your feedback. We apologize for the late delivery and the quality of the packaging. We take customer satisfaction very seriously and we are sorry that we did not meet your expectations.\\n\\nWe are currently looking into the issue and will take the necessary steps to ensure that this does not happen again in the future. We value your business and hope that you will give us another chance to provide you with a better experience.\\n\\nIf you have any further questions or concerns, please do not hesitate to contact us.\\n\\nSincerely,\\n[Your Name]'"
      ]
     },
     "execution_count": 29,
     "metadata": {},
     "output_type": "execute_result"
    }
   ],
   "source": [
    "# Example of invoking the chain with actual customer feedback\n",
    "summary_chain.invoke({\"feedback\": \"Disappointed with the late delivery and poor packaging.\"})"
   ]
  },
  {
   "cell_type": "code",
   "execution_count": 30,
   "id": "48841637",
   "metadata": {},
   "outputs": [],
   "source": [
    "# Predefined chains: summarization and Q&A\n",
    "chain = summarize.load_summarize_chain(llm, chain_type=\"stuff\")"
   ]
  },
  {
   "cell_type": "code",
   "execution_count": 31,
   "id": "cce5b76b",
   "metadata": {},
   "outputs": [
    {
     "data": {
      "text/plain": [
       "' The history of mathematics deals with the origin of discoveries in mathematics and the mathematical methods and notation of the past. It began in the 6th century BC with the Pythagoreans, who coined the term \"mathematics\". Greek mathematics greatly refined the methods and expanded the subject matter of mathematics. Chinese mathematics made early contributions, including a place value system and the first use of negative numbers. The Hindu–Arabic numeral system and the rules for the use of its operations evolved over the course of the first millennium AD in India and were transmitted to the Western world via Islamic mathematics. From ancient times through the Middle Ages, periods of mathematical discovery were often followed by centuries of stagnation. Beginning in Renaissance Italy in the 15th century, new mathematical developments, interacting with new scientific discoveries, were made at an increasing pace that continues through the present day.'"
      ]
     },
     "execution_count": 31,
     "metadata": {},
     "output_type": "execute_result"
    }
   ],
   "source": [
    "chain.run(texts[:30])"
   ]
  },
  {
   "cell_type": "code",
   "execution_count": 32,
   "id": "cb33b890",
   "metadata": {},
   "outputs": [],
   "source": [
    "chain = question_answering.load_qa_chain(llm, chain_type=\"stuff\")"
   ]
  },
  {
   "cell_type": "code",
   "execution_count": 33,
   "id": "a3384650",
   "metadata": {},
   "outputs": [
    {
     "data": {
      "text/plain": [
       "' Muḥammad ibn Mūsā al-Khwārizmī'"
      ]
     },
     "execution_count": 33,
     "metadata": {},
     "output_type": "execute_result"
    }
   ],
   "source": [
    "chain.run(input_documents=texts[:30], question=\"Name the greatest Arab mathematicians of the past\")"
   ]
  },
  {
   "cell_type": "code",
   "execution_count": 34,
   "id": "468ba5e3",
   "metadata": {},
   "outputs": [],
   "source": [
    "# Use memory\n",
    "memory=ConversationBufferMemory()\n",
    "conversation = ConversationChain(llm=llm, memory=memory)"
   ]
  },
  {
   "cell_type": "code",
   "execution_count": 35,
   "id": "1bf5a10d",
   "metadata": {},
   "outputs": [
    {
     "data": {
      "text/plain": [
       "' The tallest mountain in the world is Mount Everest, located in the Mahalangur Himal sub-range of the Himalayas in Nepal and Tibet. It stands at 8,848 meters (29,029 ft) above sea level.'"
      ]
     },
     "execution_count": 35,
     "metadata": {},
     "output_type": "execute_result"
    }
   ],
   "source": [
    "conversation.run(\"Name the tallest mountain in the world\")"
   ]
  },
  {
   "cell_type": "code",
   "execution_count": 36,
   "id": "ce3c364c",
   "metadata": {},
   "outputs": [
    {
     "data": {
      "text/plain": [
       "' Mount Everest stands at 8,848 meters (29,029 ft) above sea level.'"
      ]
     },
     "execution_count": 36,
     "metadata": {},
     "output_type": "execute_result"
    }
   ],
   "source": [
    "conversation.run(\"How high is it?\")"
   ]
  },
  {
   "cell_type": "markdown",
   "id": "a49e9b79",
   "metadata": {},
   "source": [
    "## Agents and Tools"
   ]
  },
  {
   "cell_type": "markdown",
   "id": "461a479d",
   "metadata": {},
   "source": [
    "### Tools"
   ]
  },
  {
   "cell_type": "code",
   "execution_count": 37,
   "id": "ef447ebb",
   "metadata": {},
   "outputs": [],
   "source": [
    "# custom function as tool\n",
    "from langchain.tools import StructuredTool\n",
    "def text_processing(string: str) -> str:\n",
    "    \"\"\"Process the text\"\"\"\n",
    "    return string.lower()\n",
    "text_processing_tool = StructuredTool.from_function(text_processing)"
   ]
  },
  {
   "cell_type": "code",
   "execution_count": 38,
   "id": "0c759da1",
   "metadata": {},
   "outputs": [],
   "source": [
    "from langchain.agents import initialize_agent, AgentType"
   ]
  },
  {
   "cell_type": "code",
   "execution_count": 39,
   "id": "dc9d8a20",
   "metadata": {},
   "outputs": [
    {
     "name": "stdout",
     "output_type": "stream",
     "text": [
      "\n",
      "\n",
      "\u001b[1m> Entering new AgentExecutor chain...\u001b[0m\n",
      "\u001b[32;1m\u001b[1;3m I need to use a text processing tool\n",
      "Action: text_processing\n",
      "Action Input: London is the capital of Great Britain\u001b[0m\n",
      "Observation: \u001b[36;1m\u001b[1;3mlondon is the capital of great britain\u001b[0m\n",
      "Thought:\u001b[32;1m\u001b[1;3m I now know the final answer\n",
      "Final Answer: london is the capital of great britain\u001b[0m\n",
      "\n",
      "\u001b[1m> Finished chain.\u001b[0m\n"
     ]
    },
    {
     "data": {
      "text/plain": [
       "'london is the capital of great britain'"
      ]
     },
     "execution_count": 39,
     "metadata": {},
     "output_type": "execute_result"
    }
   ],
   "source": [
    "agent = initialize_agent([text_processing_tool], llm, agent=AgentType.ZERO_SHOT_REACT_DESCRIPTION, verbose=True)\n",
    "agent.run({\"input\": \"Process the text: London is the capital of Great Britain\"})"
   ]
  },
  {
   "cell_type": "code",
   "execution_count": 40,
   "id": "128a23e7",
   "metadata": {},
   "outputs": [],
   "source": [
    "from langchain.agents import load_tools\n",
    "tools = load_tools([\"serpapi\", \"llm-math\"], llm=llm)"
   ]
  },
  {
   "cell_type": "code",
   "execution_count": 41,
   "id": "b03ee1ec",
   "metadata": {},
   "outputs": [
    {
     "name": "stdout",
     "output_type": "stream",
     "text": [
      "\n",
      "\n",
      "\u001b[1m> Entering new AgentExecutor chain...\u001b[0m\n",
      "\u001b[32;1m\u001b[1;3m I need to figure out when Daniel Radcliffe was born and when Harry Potter was born.\n",
      "Action: Search\n",
      "Action Input: \"Daniel Radcliffe birthdate\"\u001b[0m\n",
      "Observation: \u001b[36;1m\u001b[1;3mJuly 23, 1989\u001b[0m\n",
      "Thought:\u001b[32;1m\u001b[1;3m I need to figure out when Harry Potter was born.\n",
      "Action: Search\n",
      "Action Input: \"Harry Potter birthdate\"\u001b[0m\n",
      "Observation: \u001b[36;1m\u001b[1;3mJuly 31, 1980\u001b[0m\n",
      "Thought:\u001b[32;1m\u001b[1;3m I now know the difference between the two birthdates.\n",
      "Action: Calculator\n",
      "Action Input: 1989 - 1980\u001b[0m\n",
      "Observation: \u001b[33;1m\u001b[1;3mAnswer: 9\u001b[0m\n",
      "Thought:\u001b[32;1m\u001b[1;3m I now know the final answer.\n",
      "Final Answer: Harry Potter would have been 9 years old when Daniel Radcliffe was born.\u001b[0m\n",
      "\n",
      "\u001b[1m> Finished chain.\u001b[0m\n"
     ]
    },
    {
     "data": {
      "text/plain": [
       "'Harry Potter would have been 9 years old when Daniel Radcliffe was born.'"
      ]
     },
     "execution_count": 41,
     "metadata": {},
     "output_type": "execute_result"
    }
   ],
   "source": [
    "agent = initialize_agent(tools, llm, agent=AgentType.ZERO_SHOT_REACT_DESCRIPTION, verbose=True)\n",
    "agent.run({\"input\": \"How old would Harry Potter be when Daniel Radcliffe was born?\"})"
   ]
  },
  {
   "cell_type": "markdown",
   "id": "149c8332",
   "metadata": {},
   "source": [
    "### Agents"
   ]
  },
  {
   "cell_type": "code",
   "execution_count": 42,
   "id": "f022d0ba",
   "metadata": {},
   "outputs": [],
   "source": [
    "from langchain.tools import BaseTool\n",
    "from langchain.chains.conversation.memory import ConversationBufferWindowMemory\n",
    "import re\n",
    "\n",
    "class UnitConversionTool(BaseTool):\n",
    "    name = \"Unit Conversion Tool\"\n",
    "    description = \"Converts American units to International units\"\n",
    "    def _run(self, text: str):\n",
    "        # Enhanced regex patterns for identifying units\n",
    "        miles_pattern = r'\\b(\\d+(\\.\\d+)?)\\s*(miles|mile)\\b'\n",
    "        def miles_to_km(match):\n",
    "            miles = float(match.group(1))\n",
    "            return f\"{miles * 1.60934:.2f} km\"\n",
    "        return re.sub(miles_pattern, miles_to_km, text)\n",
    "    def _arun(self, text: str):\n",
    "        raise NotImplementedError(\"No async yet\")\n",
    "\n",
    "# Initialize conversational memory\n",
    "conversational_memory = ConversationBufferWindowMemory(\n",
    "    memory_key='chat_history',\n",
    "    k=3,\n",
    "    return_messages=True\n",
    ")\n",
    "\n",
    "# Initialize agent with custom tools\n",
    "tools = [UnitConversionTool()]  # You can add other tools if needed\n",
    "agent = initialize_agent(\n",
    "    agent='chat-conversational-react-description',\n",
    "    tools=tools,\n",
    "    llm=llm,\n",
    "    max_iterations=3,\n",
    "    early_stopping_method='generate',\n",
    "    memory=conversational_memory,\n",
    "    handle_parsing_errors=True\n",
    ")"
   ]
  },
  {
   "cell_type": "code",
   "execution_count": 43,
   "id": "c1cd6f5c",
   "metadata": {},
   "outputs": [
    {
     "data": {
      "text/plain": [
       "'Five miles is approximately 8 kilometers.'"
      ]
     },
     "execution_count": 43,
     "metadata": {},
     "output_type": "execute_result"
    }
   ],
   "source": [
    "agent.run(\"I ran five miles today\")"
   ]
  },
  {
   "cell_type": "code",
   "execution_count": 44,
   "id": "103d5578",
   "metadata": {},
   "outputs": [
    {
     "data": {
      "text/plain": [
       "'15 kilometers is approximately 9.3 miles'"
      ]
     },
     "execution_count": 44,
     "metadata": {},
     "output_type": "execute_result"
    }
   ],
   "source": [
    "agent.run(\"Sorry, I meant 15\")"
   ]
  }
 ],
 "metadata": {
  "kernelspec": {
   "display_name": "Python 3 (ipykernel)",
   "language": "python",
   "name": "python3"
  },
  "language_info": {
   "codemirror_mode": {
    "name": "ipython",
    "version": 3
   },
   "file_extension": ".py",
   "mimetype": "text/x-python",
   "name": "python",
   "nbconvert_exporter": "python",
   "pygments_lexer": "ipython3",
   "version": "3.10.12"
  }
 },
 "nbformat": 4,
 "nbformat_minor": 5
}
